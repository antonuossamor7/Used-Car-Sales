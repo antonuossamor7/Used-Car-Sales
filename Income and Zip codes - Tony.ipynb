{
 "cells": [
  {
   "cell_type": "code",
   "execution_count": 1,
   "metadata": {},
   "outputs": [],
   "source": [
    "import pandas as pd\n",
    "import numpy as np\n",
    "import matplotlib.pyplot as plt\n",
    "import scipy.stats as st\n",
    "\n",
    "plt.rcParams['axes.facecolor'] = 'white'\n",
    "plt.rcParams['figure.facecolor'] = 'white'"
   ]
  },
  {
   "cell_type": "code",
   "execution_count": 2,
   "metadata": {},
   "outputs": [],
   "source": [
    "income_file = 'data/income/17zpallagi.csv'\n",
    "zip_code_file = \"data/income/us zip codes.csv\"\n",
    "\n",
    "income_df = pd.read_csv(income_file)\n",
    "zip_code_df = pd.read_csv(zip_code_file)\n",
    "\n",
    "\n",
    "\n",
    "city_list = ['Miami', 'Minneapolis', 'Chicago', 'Houston', 'San Antonio', 'New York', 'Seattle', 'Nashville', 'San Francisco', 'Atlanta']\n",
    "state_list = ['FL', 'MN', 'IL', 'TX', 'TX', 'NY', 'WA', 'TN', 'CA', 'GA']\n",
    "renamed_zip_df = zip_code_df.rename(columns = {'zip':'zipcode'})\n"
   ]
  },
  {
   "cell_type": "code",
   "execution_count": 30,
   "metadata": {},
   "outputs": [
    {
     "name": "stdout",
     "output_type": "stream",
     "text": [
      "Empty DataFrame\n",
      "Columns: [zipcode, city, STATE, agi_stub, A00100]\n",
      "Index: []\n",
      "55436    6\n",
      "77075    6\n",
      "77063    6\n",
      "77064    6\n",
      "77065    6\n",
      "        ..\n",
      "30326    6\n",
      "30327    6\n",
      "33181    6\n",
      "60630    6\n",
      "55455    4\n",
      "Name: zipcode, Length: 478, dtype: int64\n",
      "            city  average income\n",
      "0          Miami       193857.87\n",
      "1    Minneapolis       152119.23\n",
      "2        Chicago       283346.64\n",
      "3        Houston       200740.24\n",
      "4    San Antonio       137881.09\n",
      "5       New York       750863.57\n",
      "6        Seattle       270734.00\n",
      "7      Nashville       166332.98\n",
      "8  San Francisco       446292.34\n",
      "9        Atlanta       236504.70\n"
     ]
    }
   ],
   "source": [
    "selected_df = pd.DataFrame( columns=['zipcode', 'city', 'STATE', 'agi_stub', 'A00100'] )\n",
    "average_income = []\n",
    "merge_df = income_df.merge(renamed_zip_df, on = 'zipcode')\n",
    "cleaned_merge_df = merge_df[['zipcode','city', 'STATE', 'agi_stub', 'A00100']]\n",
    "cleaned_merge_df.head()\n",
    "\n",
    "print(selected_df)\n",
    "for city in range(len(city_list)):\n",
    "    \n",
    "    selected_city_df = cleaned_merge_df.loc[cleaned_merge_df['city'] == city_list[city]]\n",
    "    selected_state_df = selected_city_df.loc[selected_city_df['STATE']== state_list[city]]\n",
    "    selected_df = selected_df.append(selected_state_df)\n",
    "    \n",
    "    average_city_income = round(selected_state_df['A00100'].mean(), 2)\n",
    "    average_income.append(average_city_income)\n",
    "        \n",
    "\n",
    "average_df = pd.DataFrame(columns = ['city','average income'])\n",
    "average_df['city'] = city_list\n",
    "average_df['average income'] = average_income\n",
    "print(selected_df['zipcode'].value_counts())\n",
    "print(average_df)"
   ]
  }
 ],
 "metadata": {
  "kernelspec": {
   "display_name": "Python 3",
   "language": "python",
   "name": "python3"
  },
  "language_info": {
   "codemirror_mode": {
    "name": "ipython",
    "version": 3
   },
   "file_extension": ".py",
   "mimetype": "text/x-python",
   "name": "python",
   "nbconvert_exporter": "python",
   "pygments_lexer": "ipython3",
   "version": "3.7.6"
  }
 },
 "nbformat": 4,
 "nbformat_minor": 4
}
